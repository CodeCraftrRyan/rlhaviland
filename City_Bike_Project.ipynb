{
  "nbformat": 4,
  "nbformat_minor": 0,
  "metadata": {
    "colab": {
      "provenance": [],
      "authorship_tag": "ABX9TyNfF5ESvRDd7ienH2eyF14W",
      "include_colab_link": true
    },
    "kernelspec": {
      "name": "python3",
      "display_name": "Python 3"
    },
    "language_info": {
      "name": "python"
    }
  },
  "cells": [
    {
      "cell_type": "markdown",
      "metadata": {
        "id": "view-in-github",
        "colab_type": "text"
      },
      "source": [
        "<a href=\"https://colab.research.google.com/github/CodeCraftrRyan/rlhaviland/blob/main/City_Bike_Project.ipynb\" target=\"_parent\"><img src=\"https://colab.research.google.com/assets/colab-badge.svg\" alt=\"Open In Colab\"/></a>"
      ]
    },
    {
      "cell_type": "markdown",
      "source": [
        "# City Bike Project\n",
        "For this project you’ll explore, clean, and merge Citi Bike ridership and NOAA weather data to produce a PostgreSQL database with analytics-ready views.\n",
        "\n",
        "Scenario:\n",
        "A bike rental company has asked you to create a database to help their analysts understand the effects of weather on bike rentals. You’ve been given a year of bike rental data from the company and you’ll source weather data from the government. You’ll need to clean and validate both data sets, design a relational PostgreSQL database to store the data, and develop views for the database to assist the analytics team."
      ],
      "metadata": {
        "id": "Q_c3ubEEjk3M"
      }
    },
    {
      "cell_type": "code",
      "source": [
        "import pandas as pd\n",
        "df_1 = pd.read_csv(\"/content/1-citibike-tripdata.csv\")\n",
        "df_2 = pd.read_csv(\"/content/2-citibike-tripdata.csv\")\n",
        "df_3 = pd.read_csv(\"/content/3-citibike-tripdata.csv\")\n",
        "df_4 = pd.read_csv(\"/content/4-citibike-tripdata.csv\")\n",
        "df_5 = pd.read_csv(\"/content/5-citibike-tripdata.csv\")\n",
        "df_6 = pd.read_csv(\"/content/6-citibike-tripdata.csv\")\n",
        "df_7 = pd.read_csv(\"/content/7-citibike-tripdata.csv\")\n",
        "df_8 = pd.read_csv(\"/content/8-citibike-tripdata.csv\")\n",
        "df_9 = pd.read_csv(\"/content/9-citibike-tripdata.csv\")\n",
        "df_10 = pd.read_csv(\"/content/10-citibike-tripdata.csv\")\n",
        "df_11 = pd.read_csv(\"/content/11-citibike-tripdata.csv\")\n",
        "df_12 = pd.read_csv(\"/content/12-citibike-tripdata.csv\")\n",
        "weather = pd.read_csv(\"newark_airport_2016.csv\")\n"
      ],
      "metadata": {
        "id": "vKOsdA5ufved"
      },
      "execution_count": 37,
      "outputs": []
    },
    {
      "cell_type": "code",
      "source": [
        "print(df_1.columns)\n",
        "print(df_2.columns)\n",
        "print(df_3.columns)\n",
        "print(df_4.columns)\n",
        "print(df_5.columns)\n",
        "print(df_6.columns)\n",
        "print(df_7.columns)\n",
        "print(df_8.columns)\n",
        "print(df_9.columns)\n",
        "print(df_10.columns)\n",
        "print(df_11.columns)\n",
        "print(df_12.columns)"
      ],
      "metadata": {
        "colab": {
          "base_uri": "https://localhost:8080/"
        },
        "collapsed": true,
        "id": "XZXLcolClLoU",
        "outputId": "91abbd72-c2b4-4e06-9289-607f92981310"
      },
      "execution_count": 16,
      "outputs": [
        {
          "output_type": "stream",
          "name": "stdout",
          "text": [
            "Index(['Trip Duration', 'Start Time', 'Stop Time', 'Start Station ID',\n",
            "       'Start Station Name', 'Start Station Latitude',\n",
            "       'Start Station Longitude', 'End Station ID', 'End Station Name',\n",
            "       'End Station Latitude', 'End Station Longitude', 'Bike ID', 'User Type',\n",
            "       'Birth Year', 'Gender'],\n",
            "      dtype='object')\n",
            "Index(['Trip Duration', 'Start Time', 'Stop Time', 'Start Station ID',\n",
            "       'Start Station Name', 'Start Station Latitude',\n",
            "       'Start Station Longitude', 'End Station ID', 'End Station Name',\n",
            "       'End Station Latitude', 'End Station Longitude', 'Bike ID', 'User Type',\n",
            "       'Birth Year', 'Gender'],\n",
            "      dtype='object')\n",
            "Index(['Trip Duration', 'Start Time', 'Stop Time', 'Start Station ID',\n",
            "       'Start Station Name', 'Start Station Latitude',\n",
            "       'Start Station Longitude', 'End Station ID', 'End Station Name',\n",
            "       'End Station Latitude', 'End Station Longitude', 'Bike ID', 'User Type',\n",
            "       'Birth Year', 'Gender'],\n",
            "      dtype='object')\n",
            "Index(['Trip Duration', 'Start Time', 'Stop Time', 'Start Station ID',\n",
            "       'Start Station Name', 'Start Station Latitude',\n",
            "       'Start Station Longitude', 'End Station ID', 'End Station Name',\n",
            "       'End Station Latitude', 'End Station Longitude', 'Bike ID', 'User Type',\n",
            "       'Birth Year', 'Gender'],\n",
            "      dtype='object')\n",
            "Index(['Trip Duration', 'Start Time', 'Stop Time', 'Start Station ID',\n",
            "       'Start Station Name', 'Start Station Latitude',\n",
            "       'Start Station Longitude', 'End Station ID', 'End Station Name',\n",
            "       'End Station Latitude', 'End Station Longitude', 'Bike ID', 'User Type',\n",
            "       'Birth Year', 'Gender'],\n",
            "      dtype='object')\n",
            "Index(['Trip Duration', 'Start Time', 'Stop Time', 'Start Station ID',\n",
            "       'Start Station Name', 'Start Station Latitude',\n",
            "       'Start Station Longitude', 'End Station ID', 'End Station Name',\n",
            "       'End Station Latitude', 'End Station Longitude', 'Bike ID', 'User Type',\n",
            "       'Birth Year', 'Gender'],\n",
            "      dtype='object')\n",
            "Index(['Trip Duration', 'Start Time', 'Stop Time', 'Start Station ID',\n",
            "       'Start Station Name', 'Start Station Latitude',\n",
            "       'Start Station Longitude', 'End Station ID', 'End Station Name',\n",
            "       'End Station Latitude', 'End Station Longitude', 'Bike ID', 'User Type',\n",
            "       'Birth Year', 'Gender'],\n",
            "      dtype='object')\n",
            "Index(['Trip Duration', 'Start Time', 'Stop Time', 'Start Station ID',\n",
            "       'Start Station Name', 'Start Station Latitude',\n",
            "       'Start Station Longitude', 'End Station ID', 'End Station Name',\n",
            "       'End Station Latitude', 'End Station Longitude', 'Bike ID', 'User Type',\n",
            "       'Birth Year', 'Gender'],\n",
            "      dtype='object')\n",
            "Index(['Trip Duration', 'Start Time', 'Stop Time', 'Start Station ID',\n",
            "       'Start Station Name', 'Start Station Latitude',\n",
            "       'Start Station Longitude', 'End Station ID', 'End Station Name',\n",
            "       'End Station Latitude', 'End Station Longitude', 'Bike ID', 'User Type',\n",
            "       'Birth Year', 'Gender'],\n",
            "      dtype='object')\n",
            "Index(['Trip Duration', 'Start Time', 'Stop Time', 'Start Station ID',\n",
            "       'Start Station Name', 'Start Station Latitude',\n",
            "       'Start Station Longitude', 'End Station ID', 'End Station Name',\n",
            "       'End Station Latitude', 'End Station Longitude', 'Bike ID', 'User Type',\n",
            "       'Birth Year', 'Gender'],\n",
            "      dtype='object')\n",
            "Index(['Trip Duration', 'Start Time', 'Stop Time', 'Start Station ID',\n",
            "       'Start Station Name', 'Start Station Latitude',\n",
            "       'Start Station Longitude', 'End Station ID', 'End Station Name',\n",
            "       'End Station Latitude', 'End Station Longitude', 'Bike ID', 'User Type',\n",
            "       'Birth Year', 'Gender'],\n",
            "      dtype='object')\n",
            "Index(['Trip Duration', 'Start Time', 'Stop Time', 'Start Station ID',\n",
            "       'Start Station Name', 'Start Station Latitude',\n",
            "       'Start Station Longitude', 'End Station ID', 'End Station Name',\n",
            "       'End Station Latitude', 'End Station Longitude', 'Bike ID', 'User Type',\n",
            "       'Birth Year', 'Gender'],\n",
            "      dtype='object')\n",
            "Index(['STATION', 'NAME', 'DATE', 'AWND', 'PGTM', 'PRCP', 'SNOW', 'SNWD',\n",
            "       'TAVG', 'TMAX', 'TMIN', 'TSUN', 'WDF2', 'WDF5', 'WSF2', 'WSF5'],\n",
            "      dtype='object')\n"
          ]
        }
      ]
    },
    {
      "cell_type": "markdown",
      "source": [
        "# Citi Bike Data"
      ],
      "metadata": {
        "id": "-SAH1j37pWA6"
      }
    },
    {
      "cell_type": "markdown",
      "source": [
        "Load and concatenate the City Bike CSV with pandas.concat"
      ],
      "metadata": {
        "id": "SIcc8NLZmBpW"
      }
    },
    {
      "cell_type": "code",
      "source": [
        "#glob is used for finding files matching a pattern\n",
        "import glob"
      ],
      "metadata": {
        "id": "UPSMUUvFlUgl"
      },
      "execution_count": 17,
      "outputs": []
    },
    {
      "cell_type": "code",
      "source": [
        "all_files = glob.glob(\"/content/*.csv\")"
      ],
      "metadata": {
        "id": "qFJfB4PTlikb"
      },
      "execution_count": 18,
      "outputs": []
    },
    {
      "cell_type": "code",
      "source": [
        "#load files into a list\n",
        "df_list = []\n",
        "for filename in all_files:\n",
        "    df = pd.read_csv(filename, index_col=None, header=0)\n",
        "    df_list.append(df)"
      ],
      "metadata": {
        "id": "BFxjhHtjluqW"
      },
      "execution_count": 19,
      "outputs": []
    },
    {
      "cell_type": "code",
      "source": [
        "#Concatenate DF by combining into a single DF, and reset the index to avoid duplicate values\n",
        "citibike_df = pd.concat(df_list, ignore_index=True)"
      ],
      "metadata": {
        "id": "g4KzusUrl5SA"
      },
      "execution_count": 20,
      "outputs": []
    },
    {
      "cell_type": "markdown",
      "source": [
        "Review the new data dictionary\n",
        "\n",
        "These functions provide a comprehensive view of the data quality.\n",
        "* .describe() helps identify potential outliers or incorrect data entries.\n",
        "* .info() gives a high-level summary of data types and missing values.\n",
        "* .isna().sum() provides a detailed count of missing values for each column.\n",
        "\n"
      ],
      "metadata": {
        "id": "8eM1_9CYmphA"
      }
    },
    {
      "cell_type": "code",
      "source": [
        "print(citibike_df.head())"
      ],
      "metadata": {
        "colab": {
          "base_uri": "https://localhost:8080/"
        },
        "collapsed": true,
        "id": "ZsqeN1a8m1EP",
        "outputId": "f4d09964-7d57-4155-f18b-8f617bb2c94b"
      },
      "execution_count": 21,
      "outputs": [
        {
          "output_type": "stream",
          "name": "stdout",
          "text": [
            "   Trip Duration           Start Time            Stop Time  Start Station ID  \\\n",
            "0          243.0  2016-05-01 00:04:31  2016-05-01 00:08:34            3203.0   \n",
            "1          118.0  2016-05-01 00:06:47  2016-05-01 00:08:46            3186.0   \n",
            "2         2891.0  2016-05-01 00:13:14  2016-05-01 01:01:25            3192.0   \n",
            "3          303.0  2016-05-01 00:19:32  2016-05-01 00:24:35            3202.0   \n",
            "4           93.0  2016-05-01 00:21:34  2016-05-01 00:23:08            3211.0   \n",
            "\n",
            "   Start Station Name  Start Station Latitude  Start Station Longitude  \\\n",
            "0       Hamilton Park               40.727596               -74.044247   \n",
            "1       Grove St PATH               40.719586               -74.043117   \n",
            "2  Liberty Light Rail               40.711242               -74.055701   \n",
            "3        Newport PATH               40.727224               -74.033759   \n",
            "4          Newark Ave               40.721525               -74.046305   \n",
            "\n",
            "   End Station ID    End Station Name  End Station Latitude  ...  SNOW  SNWD  \\\n",
            "0          3202.0        Newport PATH             40.727224  ...   NaN   NaN   \n",
            "1          3211.0          Newark Ave             40.721525  ...   NaN   NaN   \n",
            "2          3192.0  Liberty Light Rail             40.711242  ...   NaN   NaN   \n",
            "3          3203.0       Hamilton Park             40.727596  ...   NaN   NaN   \n",
            "4          3213.0      Van Vorst Park             40.718489  ...   NaN   NaN   \n",
            "\n",
            "  TAVG  TMAX  TMIN TSUN WDF2 WDF5  WSF2  WSF5  \n",
            "0  NaN   NaN   NaN  NaN  NaN  NaN   NaN   NaN  \n",
            "1  NaN   NaN   NaN  NaN  NaN  NaN   NaN   NaN  \n",
            "2  NaN   NaN   NaN  NaN  NaN  NaN   NaN   NaN  \n",
            "3  NaN   NaN   NaN  NaN  NaN  NaN   NaN   NaN  \n",
            "4  NaN   NaN   NaN  NaN  NaN  NaN   NaN   NaN  \n",
            "\n",
            "[5 rows x 31 columns]\n"
          ]
        }
      ]
    },
    {
      "cell_type": "code",
      "source": [
        "citibike_df.info()"
      ],
      "metadata": {
        "colab": {
          "base_uri": "https://localhost:8080/"
        },
        "collapsed": true,
        "id": "uyDXKjVNm85U",
        "outputId": "d80c21e3-e9c7-40d7-91a1-50e321d68979"
      },
      "execution_count": 22,
      "outputs": [
        {
          "output_type": "stream",
          "name": "stdout",
          "text": [
            "<class 'pandas.core.frame.DataFrame'>\n",
            "RangeIndex: 247950 entries, 0 to 247949\n",
            "Data columns (total 31 columns):\n",
            " #   Column                   Non-Null Count   Dtype  \n",
            "---  ------                   --------------   -----  \n",
            " 0   Trip Duration            247584 non-null  float64\n",
            " 1   Start Time               247584 non-null  object \n",
            " 2   Stop Time                247584 non-null  object \n",
            " 3   Start Station ID         247584 non-null  float64\n",
            " 4   Start Station Name       247584 non-null  object \n",
            " 5   Start Station Latitude   247584 non-null  float64\n",
            " 6   Start Station Longitude  247584 non-null  float64\n",
            " 7   End Station ID           247584 non-null  float64\n",
            " 8   End Station Name         247584 non-null  object \n",
            " 9   End Station Latitude     247584 non-null  float64\n",
            " 10  End Station Longitude    247584 non-null  float64\n",
            " 11  Bike ID                  247584 non-null  float64\n",
            " 12  User Type                247204 non-null  object \n",
            " 13  Birth Year               228585 non-null  float64\n",
            " 14  Gender                   247584 non-null  float64\n",
            " 15  STATION                  366 non-null     object \n",
            " 16  NAME                     366 non-null     object \n",
            " 17  DATE                     366 non-null     object \n",
            " 18  AWND                     366 non-null     float64\n",
            " 19  PGTM                     0 non-null       float64\n",
            " 20  PRCP                     366 non-null     float64\n",
            " 21  SNOW                     366 non-null     float64\n",
            " 22  SNWD                     366 non-null     float64\n",
            " 23  TAVG                     366 non-null     float64\n",
            " 24  TMAX                     366 non-null     float64\n",
            " 25  TMIN                     366 non-null     float64\n",
            " 26  TSUN                     0 non-null       float64\n",
            " 27  WDF2                     366 non-null     float64\n",
            " 28  WDF5                     364 non-null     float64\n",
            " 29  WSF2                     366 non-null     float64\n",
            " 30  WSF5                     364 non-null     float64\n",
            "dtypes: float64(23), object(8)\n",
            "memory usage: 58.6+ MB\n"
          ]
        }
      ]
    },
    {
      "cell_type": "code",
      "source": [
        "citibike_df.describe()"
      ],
      "metadata": {
        "colab": {
          "base_uri": "https://localhost:8080/",
          "height": 384
        },
        "collapsed": true,
        "id": "NI6Ec3wbnCAX",
        "outputId": "22ac2374-2059-4d61-d4b1-1401571c3507"
      },
      "execution_count": 24,
      "outputs": [
        {
          "output_type": "execute_result",
          "data": {
            "text/plain": [
              "       Trip Duration  Start Station ID  Start Station Latitude  \\\n",
              "count   2.475840e+05     247584.000000           247584.000000   \n",
              "mean    8.856305e+02       3207.065206               40.723121   \n",
              "std     3.593798e+04         26.955103                0.008199   \n",
              "min     6.100000e+01       3183.000000               40.692640   \n",
              "25%     2.480000e+02       3186.000000               40.717732   \n",
              "50%     3.900000e+02       3201.000000               40.721525   \n",
              "75%     6.660000e+02       3211.000000               40.727596   \n",
              "max     1.632981e+07       3426.000000               40.752559   \n",
              "\n",
              "       Start Station Longitude  End Station ID  End Station Latitude  \\\n",
              "count            247584.000000   247584.000000         247584.000000   \n",
              "mean                -74.046438     3203.572553             40.722594   \n",
              "std                   0.011211       61.579494              0.007958   \n",
              "min                 -74.096937      147.000000             40.692216   \n",
              "25%                 -74.050656     3186.000000             40.716540   \n",
              "50%                 -74.044247     3199.000000             40.721124   \n",
              "75%                 -74.038051     3211.000000             40.727224   \n",
              "max                 -74.032108     3426.000000             40.801343   \n",
              "\n",
              "       End Station Longitude        Bike ID     Birth Year         Gender  \\\n",
              "count          247584.000000  247584.000000  228585.000000  247584.000000   \n",
              "mean              -74.045855   24935.260481    1979.335276       1.123534   \n",
              "std                 0.011283     748.469712       9.596809       0.518687   \n",
              "min               -74.096937   14552.000000    1900.000000       0.000000   \n",
              "25%               -74.050444   24491.000000    1974.000000       1.000000   \n",
              "50%               -74.043117   24609.000000    1981.000000       1.000000   \n",
              "75%               -74.036486   24719.000000    1986.000000       1.000000   \n",
              "max               -73.957390   27274.000000    2000.000000       2.000000   \n",
              "\n",
              "       ...        SNOW        SNWD        TAVG        TMAX        TMIN  TSUN  \\\n",
              "count  ...  366.000000  366.000000  366.000000  366.000000  366.000000   0.0   \n",
              "mean   ...    0.098087    0.342623   57.196721   65.991803   48.459016   NaN   \n",
              "std    ...    1.276498    2.078510   17.466981   18.606301   17.135790   NaN   \n",
              "min    ...    0.000000    0.000000    8.000000   18.000000    0.000000   NaN   \n",
              "25%    ...    0.000000    0.000000   43.000000   51.250000   35.000000   NaN   \n",
              "50%    ...    0.000000    0.000000   56.000000   66.000000   47.000000   NaN   \n",
              "75%    ...    0.000000    0.000000   74.000000   83.000000   64.000000   NaN   \n",
              "max    ...   24.000000   20.100000   89.000000   99.000000   80.000000   NaN   \n",
              "\n",
              "             WDF2        WDF5        WSF2        WSF5  \n",
              "count  366.000000  364.000000  366.000000  364.000000  \n",
              "mean   217.841530  228.269231   20.484426   26.801648  \n",
              "std    102.548282   97.415777    6.848390    8.882610  \n",
              "min     10.000000   10.000000    6.900000   10.100000  \n",
              "25%    150.000000  150.000000   15.000000   19.900000  \n",
              "50%    240.000000  260.000000   19.900000   25.100000  \n",
              "75%    300.000000  300.000000   23.900000   31.100000  \n",
              "max    360.000000  360.000000   48.100000   66.000000  \n",
              "\n",
              "[8 rows x 23 columns]"
            ],
            "text/html": [
              "\n",
              "  <div id=\"df-e9b42e95-3671-4bbe-823b-4c9fdfadd9dc\" class=\"colab-df-container\">\n",
              "    <div>\n",
              "<style scoped>\n",
              "    .dataframe tbody tr th:only-of-type {\n",
              "        vertical-align: middle;\n",
              "    }\n",
              "\n",
              "    .dataframe tbody tr th {\n",
              "        vertical-align: top;\n",
              "    }\n",
              "\n",
              "    .dataframe thead th {\n",
              "        text-align: right;\n",
              "    }\n",
              "</style>\n",
              "<table border=\"1\" class=\"dataframe\">\n",
              "  <thead>\n",
              "    <tr style=\"text-align: right;\">\n",
              "      <th></th>\n",
              "      <th>Trip Duration</th>\n",
              "      <th>Start Station ID</th>\n",
              "      <th>Start Station Latitude</th>\n",
              "      <th>Start Station Longitude</th>\n",
              "      <th>End Station ID</th>\n",
              "      <th>End Station Latitude</th>\n",
              "      <th>End Station Longitude</th>\n",
              "      <th>Bike ID</th>\n",
              "      <th>Birth Year</th>\n",
              "      <th>Gender</th>\n",
              "      <th>...</th>\n",
              "      <th>SNOW</th>\n",
              "      <th>SNWD</th>\n",
              "      <th>TAVG</th>\n",
              "      <th>TMAX</th>\n",
              "      <th>TMIN</th>\n",
              "      <th>TSUN</th>\n",
              "      <th>WDF2</th>\n",
              "      <th>WDF5</th>\n",
              "      <th>WSF2</th>\n",
              "      <th>WSF5</th>\n",
              "    </tr>\n",
              "  </thead>\n",
              "  <tbody>\n",
              "    <tr>\n",
              "      <th>count</th>\n",
              "      <td>2.475840e+05</td>\n",
              "      <td>247584.000000</td>\n",
              "      <td>247584.000000</td>\n",
              "      <td>247584.000000</td>\n",
              "      <td>247584.000000</td>\n",
              "      <td>247584.000000</td>\n",
              "      <td>247584.000000</td>\n",
              "      <td>247584.000000</td>\n",
              "      <td>228585.000000</td>\n",
              "      <td>247584.000000</td>\n",
              "      <td>...</td>\n",
              "      <td>366.000000</td>\n",
              "      <td>366.000000</td>\n",
              "      <td>366.000000</td>\n",
              "      <td>366.000000</td>\n",
              "      <td>366.000000</td>\n",
              "      <td>0.0</td>\n",
              "      <td>366.000000</td>\n",
              "      <td>364.000000</td>\n",
              "      <td>366.000000</td>\n",
              "      <td>364.000000</td>\n",
              "    </tr>\n",
              "    <tr>\n",
              "      <th>mean</th>\n",
              "      <td>8.856305e+02</td>\n",
              "      <td>3207.065206</td>\n",
              "      <td>40.723121</td>\n",
              "      <td>-74.046438</td>\n",
              "      <td>3203.572553</td>\n",
              "      <td>40.722594</td>\n",
              "      <td>-74.045855</td>\n",
              "      <td>24935.260481</td>\n",
              "      <td>1979.335276</td>\n",
              "      <td>1.123534</td>\n",
              "      <td>...</td>\n",
              "      <td>0.098087</td>\n",
              "      <td>0.342623</td>\n",
              "      <td>57.196721</td>\n",
              "      <td>65.991803</td>\n",
              "      <td>48.459016</td>\n",
              "      <td>NaN</td>\n",
              "      <td>217.841530</td>\n",
              "      <td>228.269231</td>\n",
              "      <td>20.484426</td>\n",
              "      <td>26.801648</td>\n",
              "    </tr>\n",
              "    <tr>\n",
              "      <th>std</th>\n",
              "      <td>3.593798e+04</td>\n",
              "      <td>26.955103</td>\n",
              "      <td>0.008199</td>\n",
              "      <td>0.011211</td>\n",
              "      <td>61.579494</td>\n",
              "      <td>0.007958</td>\n",
              "      <td>0.011283</td>\n",
              "      <td>748.469712</td>\n",
              "      <td>9.596809</td>\n",
              "      <td>0.518687</td>\n",
              "      <td>...</td>\n",
              "      <td>1.276498</td>\n",
              "      <td>2.078510</td>\n",
              "      <td>17.466981</td>\n",
              "      <td>18.606301</td>\n",
              "      <td>17.135790</td>\n",
              "      <td>NaN</td>\n",
              "      <td>102.548282</td>\n",
              "      <td>97.415777</td>\n",
              "      <td>6.848390</td>\n",
              "      <td>8.882610</td>\n",
              "    </tr>\n",
              "    <tr>\n",
              "      <th>min</th>\n",
              "      <td>6.100000e+01</td>\n",
              "      <td>3183.000000</td>\n",
              "      <td>40.692640</td>\n",
              "      <td>-74.096937</td>\n",
              "      <td>147.000000</td>\n",
              "      <td>40.692216</td>\n",
              "      <td>-74.096937</td>\n",
              "      <td>14552.000000</td>\n",
              "      <td>1900.000000</td>\n",
              "      <td>0.000000</td>\n",
              "      <td>...</td>\n",
              "      <td>0.000000</td>\n",
              "      <td>0.000000</td>\n",
              "      <td>8.000000</td>\n",
              "      <td>18.000000</td>\n",
              "      <td>0.000000</td>\n",
              "      <td>NaN</td>\n",
              "      <td>10.000000</td>\n",
              "      <td>10.000000</td>\n",
              "      <td>6.900000</td>\n",
              "      <td>10.100000</td>\n",
              "    </tr>\n",
              "    <tr>\n",
              "      <th>25%</th>\n",
              "      <td>2.480000e+02</td>\n",
              "      <td>3186.000000</td>\n",
              "      <td>40.717732</td>\n",
              "      <td>-74.050656</td>\n",
              "      <td>3186.000000</td>\n",
              "      <td>40.716540</td>\n",
              "      <td>-74.050444</td>\n",
              "      <td>24491.000000</td>\n",
              "      <td>1974.000000</td>\n",
              "      <td>1.000000</td>\n",
              "      <td>...</td>\n",
              "      <td>0.000000</td>\n",
              "      <td>0.000000</td>\n",
              "      <td>43.000000</td>\n",
              "      <td>51.250000</td>\n",
              "      <td>35.000000</td>\n",
              "      <td>NaN</td>\n",
              "      <td>150.000000</td>\n",
              "      <td>150.000000</td>\n",
              "      <td>15.000000</td>\n",
              "      <td>19.900000</td>\n",
              "    </tr>\n",
              "    <tr>\n",
              "      <th>50%</th>\n",
              "      <td>3.900000e+02</td>\n",
              "      <td>3201.000000</td>\n",
              "      <td>40.721525</td>\n",
              "      <td>-74.044247</td>\n",
              "      <td>3199.000000</td>\n",
              "      <td>40.721124</td>\n",
              "      <td>-74.043117</td>\n",
              "      <td>24609.000000</td>\n",
              "      <td>1981.000000</td>\n",
              "      <td>1.000000</td>\n",
              "      <td>...</td>\n",
              "      <td>0.000000</td>\n",
              "      <td>0.000000</td>\n",
              "      <td>56.000000</td>\n",
              "      <td>66.000000</td>\n",
              "      <td>47.000000</td>\n",
              "      <td>NaN</td>\n",
              "      <td>240.000000</td>\n",
              "      <td>260.000000</td>\n",
              "      <td>19.900000</td>\n",
              "      <td>25.100000</td>\n",
              "    </tr>\n",
              "    <tr>\n",
              "      <th>75%</th>\n",
              "      <td>6.660000e+02</td>\n",
              "      <td>3211.000000</td>\n",
              "      <td>40.727596</td>\n",
              "      <td>-74.038051</td>\n",
              "      <td>3211.000000</td>\n",
              "      <td>40.727224</td>\n",
              "      <td>-74.036486</td>\n",
              "      <td>24719.000000</td>\n",
              "      <td>1986.000000</td>\n",
              "      <td>1.000000</td>\n",
              "      <td>...</td>\n",
              "      <td>0.000000</td>\n",
              "      <td>0.000000</td>\n",
              "      <td>74.000000</td>\n",
              "      <td>83.000000</td>\n",
              "      <td>64.000000</td>\n",
              "      <td>NaN</td>\n",
              "      <td>300.000000</td>\n",
              "      <td>300.000000</td>\n",
              "      <td>23.900000</td>\n",
              "      <td>31.100000</td>\n",
              "    </tr>\n",
              "    <tr>\n",
              "      <th>max</th>\n",
              "      <td>1.632981e+07</td>\n",
              "      <td>3426.000000</td>\n",
              "      <td>40.752559</td>\n",
              "      <td>-74.032108</td>\n",
              "      <td>3426.000000</td>\n",
              "      <td>40.801343</td>\n",
              "      <td>-73.957390</td>\n",
              "      <td>27274.000000</td>\n",
              "      <td>2000.000000</td>\n",
              "      <td>2.000000</td>\n",
              "      <td>...</td>\n",
              "      <td>24.000000</td>\n",
              "      <td>20.100000</td>\n",
              "      <td>89.000000</td>\n",
              "      <td>99.000000</td>\n",
              "      <td>80.000000</td>\n",
              "      <td>NaN</td>\n",
              "      <td>360.000000</td>\n",
              "      <td>360.000000</td>\n",
              "      <td>48.100000</td>\n",
              "      <td>66.000000</td>\n",
              "    </tr>\n",
              "  </tbody>\n",
              "</table>\n",
              "<p>8 rows × 23 columns</p>\n",
              "</div>\n",
              "    <div class=\"colab-df-buttons\">\n",
              "\n",
              "  <div class=\"colab-df-container\">\n",
              "    <button class=\"colab-df-convert\" onclick=\"convertToInteractive('df-e9b42e95-3671-4bbe-823b-4c9fdfadd9dc')\"\n",
              "            title=\"Convert this dataframe to an interactive table.\"\n",
              "            style=\"display:none;\">\n",
              "\n",
              "  <svg xmlns=\"http://www.w3.org/2000/svg\" height=\"24px\" viewBox=\"0 -960 960 960\">\n",
              "    <path d=\"M120-120v-720h720v720H120Zm60-500h600v-160H180v160Zm220 220h160v-160H400v160Zm0 220h160v-160H400v160ZM180-400h160v-160H180v160Zm440 0h160v-160H620v160ZM180-180h160v-160H180v160Zm440 0h160v-160H620v160Z\"/>\n",
              "  </svg>\n",
              "    </button>\n",
              "\n",
              "  <style>\n",
              "    .colab-df-container {\n",
              "      display:flex;\n",
              "      gap: 12px;\n",
              "    }\n",
              "\n",
              "    .colab-df-convert {\n",
              "      background-color: #E8F0FE;\n",
              "      border: none;\n",
              "      border-radius: 50%;\n",
              "      cursor: pointer;\n",
              "      display: none;\n",
              "      fill: #1967D2;\n",
              "      height: 32px;\n",
              "      padding: 0 0 0 0;\n",
              "      width: 32px;\n",
              "    }\n",
              "\n",
              "    .colab-df-convert:hover {\n",
              "      background-color: #E2EBFA;\n",
              "      box-shadow: 0px 1px 2px rgba(60, 64, 67, 0.3), 0px 1px 3px 1px rgba(60, 64, 67, 0.15);\n",
              "      fill: #174EA6;\n",
              "    }\n",
              "\n",
              "    .colab-df-buttons div {\n",
              "      margin-bottom: 4px;\n",
              "    }\n",
              "\n",
              "    [theme=dark] .colab-df-convert {\n",
              "      background-color: #3B4455;\n",
              "      fill: #D2E3FC;\n",
              "    }\n",
              "\n",
              "    [theme=dark] .colab-df-convert:hover {\n",
              "      background-color: #434B5C;\n",
              "      box-shadow: 0px 1px 3px 1px rgba(0, 0, 0, 0.15);\n",
              "      filter: drop-shadow(0px 1px 2px rgba(0, 0, 0, 0.3));\n",
              "      fill: #FFFFFF;\n",
              "    }\n",
              "  </style>\n",
              "\n",
              "    <script>\n",
              "      const buttonEl =\n",
              "        document.querySelector('#df-e9b42e95-3671-4bbe-823b-4c9fdfadd9dc button.colab-df-convert');\n",
              "      buttonEl.style.display =\n",
              "        google.colab.kernel.accessAllowed ? 'block' : 'none';\n",
              "\n",
              "      async function convertToInteractive(key) {\n",
              "        const element = document.querySelector('#df-e9b42e95-3671-4bbe-823b-4c9fdfadd9dc');\n",
              "        const dataTable =\n",
              "          await google.colab.kernel.invokeFunction('convertToInteractive',\n",
              "                                                    [key], {});\n",
              "        if (!dataTable) return;\n",
              "\n",
              "        const docLinkHtml = 'Like what you see? Visit the ' +\n",
              "          '<a target=\"_blank\" href=https://colab.research.google.com/notebooks/data_table.ipynb>data table notebook</a>'\n",
              "          + ' to learn more about interactive tables.';\n",
              "        element.innerHTML = '';\n",
              "        dataTable['output_type'] = 'display_data';\n",
              "        await google.colab.output.renderOutput(dataTable, element);\n",
              "        const docLink = document.createElement('div');\n",
              "        docLink.innerHTML = docLinkHtml;\n",
              "        element.appendChild(docLink);\n",
              "      }\n",
              "    </script>\n",
              "  </div>\n",
              "\n",
              "\n",
              "<div id=\"df-c4ce48f5-a8e3-409e-b101-6c32944e0f86\">\n",
              "  <button class=\"colab-df-quickchart\" onclick=\"quickchart('df-c4ce48f5-a8e3-409e-b101-6c32944e0f86')\"\n",
              "            title=\"Suggest charts\"\n",
              "            style=\"display:none;\">\n",
              "\n",
              "<svg xmlns=\"http://www.w3.org/2000/svg\" height=\"24px\"viewBox=\"0 0 24 24\"\n",
              "     width=\"24px\">\n",
              "    <g>\n",
              "        <path d=\"M19 3H5c-1.1 0-2 .9-2 2v14c0 1.1.9 2 2 2h14c1.1 0 2-.9 2-2V5c0-1.1-.9-2-2-2zM9 17H7v-7h2v7zm4 0h-2V7h2v10zm4 0h-2v-4h2v4z\"/>\n",
              "    </g>\n",
              "</svg>\n",
              "  </button>\n",
              "\n",
              "<style>\n",
              "  .colab-df-quickchart {\n",
              "      --bg-color: #E8F0FE;\n",
              "      --fill-color: #1967D2;\n",
              "      --hover-bg-color: #E2EBFA;\n",
              "      --hover-fill-color: #174EA6;\n",
              "      --disabled-fill-color: #AAA;\n",
              "      --disabled-bg-color: #DDD;\n",
              "  }\n",
              "\n",
              "  [theme=dark] .colab-df-quickchart {\n",
              "      --bg-color: #3B4455;\n",
              "      --fill-color: #D2E3FC;\n",
              "      --hover-bg-color: #434B5C;\n",
              "      --hover-fill-color: #FFFFFF;\n",
              "      --disabled-bg-color: #3B4455;\n",
              "      --disabled-fill-color: #666;\n",
              "  }\n",
              "\n",
              "  .colab-df-quickchart {\n",
              "    background-color: var(--bg-color);\n",
              "    border: none;\n",
              "    border-radius: 50%;\n",
              "    cursor: pointer;\n",
              "    display: none;\n",
              "    fill: var(--fill-color);\n",
              "    height: 32px;\n",
              "    padding: 0;\n",
              "    width: 32px;\n",
              "  }\n",
              "\n",
              "  .colab-df-quickchart:hover {\n",
              "    background-color: var(--hover-bg-color);\n",
              "    box-shadow: 0 1px 2px rgba(60, 64, 67, 0.3), 0 1px 3px 1px rgba(60, 64, 67, 0.15);\n",
              "    fill: var(--button-hover-fill-color);\n",
              "  }\n",
              "\n",
              "  .colab-df-quickchart-complete:disabled,\n",
              "  .colab-df-quickchart-complete:disabled:hover {\n",
              "    background-color: var(--disabled-bg-color);\n",
              "    fill: var(--disabled-fill-color);\n",
              "    box-shadow: none;\n",
              "  }\n",
              "\n",
              "  .colab-df-spinner {\n",
              "    border: 2px solid var(--fill-color);\n",
              "    border-color: transparent;\n",
              "    border-bottom-color: var(--fill-color);\n",
              "    animation:\n",
              "      spin 1s steps(1) infinite;\n",
              "  }\n",
              "\n",
              "  @keyframes spin {\n",
              "    0% {\n",
              "      border-color: transparent;\n",
              "      border-bottom-color: var(--fill-color);\n",
              "      border-left-color: var(--fill-color);\n",
              "    }\n",
              "    20% {\n",
              "      border-color: transparent;\n",
              "      border-left-color: var(--fill-color);\n",
              "      border-top-color: var(--fill-color);\n",
              "    }\n",
              "    30% {\n",
              "      border-color: transparent;\n",
              "      border-left-color: var(--fill-color);\n",
              "      border-top-color: var(--fill-color);\n",
              "      border-right-color: var(--fill-color);\n",
              "    }\n",
              "    40% {\n",
              "      border-color: transparent;\n",
              "      border-right-color: var(--fill-color);\n",
              "      border-top-color: var(--fill-color);\n",
              "    }\n",
              "    60% {\n",
              "      border-color: transparent;\n",
              "      border-right-color: var(--fill-color);\n",
              "    }\n",
              "    80% {\n",
              "      border-color: transparent;\n",
              "      border-right-color: var(--fill-color);\n",
              "      border-bottom-color: var(--fill-color);\n",
              "    }\n",
              "    90% {\n",
              "      border-color: transparent;\n",
              "      border-bottom-color: var(--fill-color);\n",
              "    }\n",
              "  }\n",
              "</style>\n",
              "\n",
              "  <script>\n",
              "    async function quickchart(key) {\n",
              "      const quickchartButtonEl =\n",
              "        document.querySelector('#' + key + ' button');\n",
              "      quickchartButtonEl.disabled = true;  // To prevent multiple clicks.\n",
              "      quickchartButtonEl.classList.add('colab-df-spinner');\n",
              "      try {\n",
              "        const charts = await google.colab.kernel.invokeFunction(\n",
              "            'suggestCharts', [key], {});\n",
              "      } catch (error) {\n",
              "        console.error('Error during call to suggestCharts:', error);\n",
              "      }\n",
              "      quickchartButtonEl.classList.remove('colab-df-spinner');\n",
              "      quickchartButtonEl.classList.add('colab-df-quickchart-complete');\n",
              "    }\n",
              "    (() => {\n",
              "      let quickchartButtonEl =\n",
              "        document.querySelector('#df-c4ce48f5-a8e3-409e-b101-6c32944e0f86 button');\n",
              "      quickchartButtonEl.style.display =\n",
              "        google.colab.kernel.accessAllowed ? 'block' : 'none';\n",
              "    })();\n",
              "  </script>\n",
              "</div>\n",
              "\n",
              "    </div>\n",
              "  </div>\n"
            ],
            "application/vnd.google.colaboratory.intrinsic+json": {
              "type": "dataframe"
            }
          },
          "metadata": {},
          "execution_count": 24
        }
      ]
    },
    {
      "cell_type": "code",
      "source": [
        "citibike_df.isna().sum()"
      ],
      "metadata": {
        "colab": {
          "base_uri": "https://localhost:8080/",
          "height": 1000
        },
        "collapsed": true,
        "id": "6wihFOMNnJZf",
        "outputId": "acb1c124-5f9e-4f05-9f46-fa15c9991958"
      },
      "execution_count": 25,
      "outputs": [
        {
          "output_type": "execute_result",
          "data": {
            "text/plain": [
              "Trip Duration                 366\n",
              "Start Time                    366\n",
              "Stop Time                     366\n",
              "Start Station ID              366\n",
              "Start Station Name            366\n",
              "Start Station Latitude        366\n",
              "Start Station Longitude       366\n",
              "End Station ID                366\n",
              "End Station Name              366\n",
              "End Station Latitude          366\n",
              "End Station Longitude         366\n",
              "Bike ID                       366\n",
              "User Type                     746\n",
              "Birth Year                  19365\n",
              "Gender                        366\n",
              "STATION                    247584\n",
              "NAME                       247584\n",
              "DATE                       247584\n",
              "AWND                       247584\n",
              "PGTM                       247950\n",
              "PRCP                       247584\n",
              "SNOW                       247584\n",
              "SNWD                       247584\n",
              "TAVG                       247584\n",
              "TMAX                       247584\n",
              "TMIN                       247584\n",
              "TSUN                       247950\n",
              "WDF2                       247584\n",
              "WDF5                       247586\n",
              "WSF2                       247584\n",
              "WSF5                       247586\n",
              "dtype: int64"
            ],
            "text/html": [
              "<div>\n",
              "<style scoped>\n",
              "    .dataframe tbody tr th:only-of-type {\n",
              "        vertical-align: middle;\n",
              "    }\n",
              "\n",
              "    .dataframe tbody tr th {\n",
              "        vertical-align: top;\n",
              "    }\n",
              "\n",
              "    .dataframe thead th {\n",
              "        text-align: right;\n",
              "    }\n",
              "</style>\n",
              "<table border=\"1\" class=\"dataframe\">\n",
              "  <thead>\n",
              "    <tr style=\"text-align: right;\">\n",
              "      <th></th>\n",
              "      <th>0</th>\n",
              "    </tr>\n",
              "  </thead>\n",
              "  <tbody>\n",
              "    <tr>\n",
              "      <th>Trip Duration</th>\n",
              "      <td>366</td>\n",
              "    </tr>\n",
              "    <tr>\n",
              "      <th>Start Time</th>\n",
              "      <td>366</td>\n",
              "    </tr>\n",
              "    <tr>\n",
              "      <th>Stop Time</th>\n",
              "      <td>366</td>\n",
              "    </tr>\n",
              "    <tr>\n",
              "      <th>Start Station ID</th>\n",
              "      <td>366</td>\n",
              "    </tr>\n",
              "    <tr>\n",
              "      <th>Start Station Name</th>\n",
              "      <td>366</td>\n",
              "    </tr>\n",
              "    <tr>\n",
              "      <th>Start Station Latitude</th>\n",
              "      <td>366</td>\n",
              "    </tr>\n",
              "    <tr>\n",
              "      <th>Start Station Longitude</th>\n",
              "      <td>366</td>\n",
              "    </tr>\n",
              "    <tr>\n",
              "      <th>End Station ID</th>\n",
              "      <td>366</td>\n",
              "    </tr>\n",
              "    <tr>\n",
              "      <th>End Station Name</th>\n",
              "      <td>366</td>\n",
              "    </tr>\n",
              "    <tr>\n",
              "      <th>End Station Latitude</th>\n",
              "      <td>366</td>\n",
              "    </tr>\n",
              "    <tr>\n",
              "      <th>End Station Longitude</th>\n",
              "      <td>366</td>\n",
              "    </tr>\n",
              "    <tr>\n",
              "      <th>Bike ID</th>\n",
              "      <td>366</td>\n",
              "    </tr>\n",
              "    <tr>\n",
              "      <th>User Type</th>\n",
              "      <td>746</td>\n",
              "    </tr>\n",
              "    <tr>\n",
              "      <th>Birth Year</th>\n",
              "      <td>19365</td>\n",
              "    </tr>\n",
              "    <tr>\n",
              "      <th>Gender</th>\n",
              "      <td>366</td>\n",
              "    </tr>\n",
              "    <tr>\n",
              "      <th>STATION</th>\n",
              "      <td>247584</td>\n",
              "    </tr>\n",
              "    <tr>\n",
              "      <th>NAME</th>\n",
              "      <td>247584</td>\n",
              "    </tr>\n",
              "    <tr>\n",
              "      <th>DATE</th>\n",
              "      <td>247584</td>\n",
              "    </tr>\n",
              "    <tr>\n",
              "      <th>AWND</th>\n",
              "      <td>247584</td>\n",
              "    </tr>\n",
              "    <tr>\n",
              "      <th>PGTM</th>\n",
              "      <td>247950</td>\n",
              "    </tr>\n",
              "    <tr>\n",
              "      <th>PRCP</th>\n",
              "      <td>247584</td>\n",
              "    </tr>\n",
              "    <tr>\n",
              "      <th>SNOW</th>\n",
              "      <td>247584</td>\n",
              "    </tr>\n",
              "    <tr>\n",
              "      <th>SNWD</th>\n",
              "      <td>247584</td>\n",
              "    </tr>\n",
              "    <tr>\n",
              "      <th>TAVG</th>\n",
              "      <td>247584</td>\n",
              "    </tr>\n",
              "    <tr>\n",
              "      <th>TMAX</th>\n",
              "      <td>247584</td>\n",
              "    </tr>\n",
              "    <tr>\n",
              "      <th>TMIN</th>\n",
              "      <td>247584</td>\n",
              "    </tr>\n",
              "    <tr>\n",
              "      <th>TSUN</th>\n",
              "      <td>247950</td>\n",
              "    </tr>\n",
              "    <tr>\n",
              "      <th>WDF2</th>\n",
              "      <td>247584</td>\n",
              "    </tr>\n",
              "    <tr>\n",
              "      <th>WDF5</th>\n",
              "      <td>247586</td>\n",
              "    </tr>\n",
              "    <tr>\n",
              "      <th>WSF2</th>\n",
              "      <td>247584</td>\n",
              "    </tr>\n",
              "    <tr>\n",
              "      <th>WSF5</th>\n",
              "      <td>247586</td>\n",
              "    </tr>\n",
              "  </tbody>\n",
              "</table>\n",
              "</div><br><label><b>dtype:</b> int64</label>"
            ]
          },
          "metadata": {},
          "execution_count": 25
        }
      ]
    },
    {
      "cell_type": "markdown",
      "source": [
        "Missing Values"
      ],
      "metadata": {
        "id": "TdR8MKqentYm"
      }
    },
    {
      "cell_type": "code",
      "source": [
        "citibike_df.dropna(inplace=True)"
      ],
      "metadata": {
        "id": "_v4lwf1_nRi3"
      },
      "execution_count": 26,
      "outputs": []
    },
    {
      "cell_type": "code",
      "source": [
        "most_frequent_station = citibike_df['Start Station Name'].groupby(citibike_df['Start Station ID']).agg(lambda x: x.value_counts().index[0])\n",
        "citibike_df['Start Station Name'] = citibike_df['Start Station Name'].fillna(citibike_df['Start Station ID'].map(most_frequent_station))"
      ],
      "metadata": {
        "id": "vwocFVfon1Gn"
      },
      "execution_count": 32,
      "outputs": []
    },
    {
      "cell_type": "code",
      "source": [
        "citibike_df['start_station_name_missing'] = citibike_df['Start Station Name'].isna().astype(int)"
      ],
      "metadata": {
        "id": "cCkg9FKuollF"
      },
      "execution_count": 33,
      "outputs": []
    },
    {
      "cell_type": "markdown",
      "source": [
        "Suspicious Values"
      ],
      "metadata": {
        "id": "F5Q94oKdorRI"
      }
    },
    {
      "cell_type": "code",
      "source": [
        "# Filter for trips between 1 minute and 24 hours\n",
        "citibike_df = citibike_df[(citibike_df['Trip Duration'] >= 60) & (citibike_df['Trip Duration'] <= 3600 * 24)]"
      ],
      "metadata": {
        "id": "Bnws25-toteQ"
      },
      "execution_count": 34,
      "outputs": []
    },
    {
      "cell_type": "markdown",
      "source": [
        "Typos"
      ],
      "metadata": {
        "id": "JjbQFThQo9Q2"
      }
    },
    {
      "cell_type": "code",
      "source": [
        "typos_dict = {'Grand Central Termina': 'Grand Central Terminal', 'Penn Staion': 'Penn Station'}\n",
        "citibike_df['start_station_name'] = citibike_df['Start Station Name'].replace(typos_dict)"
      ],
      "metadata": {
        "id": "MXU5_ycoo7dl"
      },
      "execution_count": 35,
      "outputs": []
    },
    {
      "cell_type": "markdown",
      "source": [
        "# Airport Weather Data"
      ],
      "metadata": {
        "id": "6RcXJp6DpcAl"
      }
    },
    {
      "cell_type": "markdown",
      "source": [],
      "metadata": {
        "id": "BcxzWJ2opfUN"
      }
    },
    {
      "cell_type": "code",
      "source": [
        "print(weather.head())"
      ],
      "metadata": {
        "colab": {
          "base_uri": "https://localhost:8080/"
        },
        "id": "UBh5wWzZpo-h",
        "outputId": "012a6b12-1250-46d3-8d33-e4a0ba7c0845"
      },
      "execution_count": 38,
      "outputs": [
        {
          "output_type": "stream",
          "name": "stdout",
          "text": [
            "       STATION                                         NAME        DATE  \\\n",
            "0  USW00014734  NEWARK LIBERTY INTERNATIONAL AIRPORT, NJ US  2016-01-01   \n",
            "1  USW00014734  NEWARK LIBERTY INTERNATIONAL AIRPORT, NJ US  2016-01-02   \n",
            "2  USW00014734  NEWARK LIBERTY INTERNATIONAL AIRPORT, NJ US  2016-01-03   \n",
            "3  USW00014734  NEWARK LIBERTY INTERNATIONAL AIRPORT, NJ US  2016-01-04   \n",
            "4  USW00014734  NEWARK LIBERTY INTERNATIONAL AIRPORT, NJ US  2016-01-05   \n",
            "\n",
            "    AWND  PGTM  PRCP  SNOW  SNWD  TAVG  TMAX  TMIN  TSUN  WDF2   WDF5  WSF2  \\\n",
            "0  12.75   NaN   0.0   0.0   0.0    41    43    34   NaN   270  280.0  25.9   \n",
            "1   9.40   NaN   0.0   0.0   0.0    36    42    30   NaN   260  260.0  21.0   \n",
            "2  10.29   NaN   0.0   0.0   0.0    37    47    28   NaN   270  250.0  23.9   \n",
            "3  17.22   NaN   0.0   0.0   0.0    32    35    14   NaN   330  330.0  25.9   \n",
            "4   9.84   NaN   0.0   0.0   0.0    19    31    10   NaN   360  350.0  25.1   \n",
            "\n",
            "   WSF5  \n",
            "0  35.1  \n",
            "1  25.1  \n",
            "2  30.0  \n",
            "3  33.1  \n",
            "4  31.1  \n"
          ]
        }
      ]
    },
    {
      "cell_type": "code",
      "source": [
        "print(weather.columns)"
      ],
      "metadata": {
        "colab": {
          "base_uri": "https://localhost:8080/"
        },
        "id": "f1kagFldqgBP",
        "outputId": "18f36e9a-0d52-4894-e91d-1ae321d2afe5"
      },
      "execution_count": 47,
      "outputs": [
        {
          "output_type": "stream",
          "name": "stdout",
          "text": [
            "Index(['STATION', 'NAME', 'DATE', 'AWND', 'PGTM', 'PRCP', 'SNOW', 'SNWD',\n",
            "       'TAVG', 'TMAX', 'TMIN', 'TSUN', 'WDF2', 'WDF5', 'WSF2', 'WSF5'],\n",
            "      dtype='object')\n"
          ]
        }
      ]
    },
    {
      "cell_type": "code",
      "source": [
        "print(weather.info())"
      ],
      "metadata": {
        "colab": {
          "base_uri": "https://localhost:8080/"
        },
        "id": "18LcwEtAp1B7",
        "outputId": "d54ee384-ca12-49a8-d011-1a55531d344a"
      },
      "execution_count": 39,
      "outputs": [
        {
          "output_type": "stream",
          "name": "stdout",
          "text": [
            "<class 'pandas.core.frame.DataFrame'>\n",
            "RangeIndex: 366 entries, 0 to 365\n",
            "Data columns (total 16 columns):\n",
            " #   Column   Non-Null Count  Dtype  \n",
            "---  ------   --------------  -----  \n",
            " 0   STATION  366 non-null    object \n",
            " 1   NAME     366 non-null    object \n",
            " 2   DATE     366 non-null    object \n",
            " 3   AWND     366 non-null    float64\n",
            " 4   PGTM     0 non-null      float64\n",
            " 5   PRCP     366 non-null    float64\n",
            " 6   SNOW     366 non-null    float64\n",
            " 7   SNWD     366 non-null    float64\n",
            " 8   TAVG     366 non-null    int64  \n",
            " 9   TMAX     366 non-null    int64  \n",
            " 10  TMIN     366 non-null    int64  \n",
            " 11  TSUN     0 non-null      float64\n",
            " 12  WDF2     366 non-null    int64  \n",
            " 13  WDF5     364 non-null    float64\n",
            " 14  WSF2     366 non-null    float64\n",
            " 15  WSF5     364 non-null    float64\n",
            "dtypes: float64(9), int64(4), object(3)\n",
            "memory usage: 45.9+ KB\n",
            "None\n"
          ]
        }
      ]
    },
    {
      "cell_type": "code",
      "source": [
        "print(weather.describe())"
      ],
      "metadata": {
        "colab": {
          "base_uri": "https://localhost:8080/"
        },
        "id": "lncOFWQJp6vL",
        "outputId": "f59c34ca-c0ff-4d37-ea40-7e47767152a8"
      },
      "execution_count": 40,
      "outputs": [
        {
          "output_type": "stream",
          "name": "stdout",
          "text": [
            "             AWND  PGTM        PRCP        SNOW        SNWD        TAVG  \\\n",
            "count  366.000000   0.0  366.000000  366.000000  366.000000  366.000000   \n",
            "mean     9.429973   NaN    0.104945    0.098087    0.342623   57.196721   \n",
            "std      3.748174   NaN    0.307496    1.276498    2.078510   17.466981   \n",
            "min      2.460000   NaN    0.000000    0.000000    0.000000    8.000000   \n",
            "25%      6.765000   NaN    0.000000    0.000000    0.000000   43.000000   \n",
            "50%      8.720000   NaN    0.000000    0.000000    0.000000   56.000000   \n",
            "75%     11.410000   NaN    0.030000    0.000000    0.000000   74.000000   \n",
            "max     22.820000   NaN    2.790000   24.000000   20.100000   89.000000   \n",
            "\n",
            "             TMAX        TMIN  TSUN        WDF2        WDF5        WSF2  \\\n",
            "count  366.000000  366.000000   0.0  366.000000  364.000000  366.000000   \n",
            "mean    65.991803   48.459016   NaN  217.841530  228.269231   20.484426   \n",
            "std     18.606301   17.135790   NaN  102.548282   97.415777    6.848390   \n",
            "min     18.000000    0.000000   NaN   10.000000   10.000000    6.900000   \n",
            "25%     51.250000   35.000000   NaN  150.000000  150.000000   15.000000   \n",
            "50%     66.000000   47.000000   NaN  240.000000  260.000000   19.900000   \n",
            "75%     83.000000   64.000000   NaN  300.000000  300.000000   23.900000   \n",
            "max     99.000000   80.000000   NaN  360.000000  360.000000   48.100000   \n",
            "\n",
            "             WSF5  \n",
            "count  364.000000  \n",
            "mean    26.801648  \n",
            "std      8.882610  \n",
            "min     10.100000  \n",
            "25%     19.900000  \n",
            "50%     25.100000  \n",
            "75%     31.100000  \n",
            "max     66.000000  \n"
          ]
        }
      ]
    },
    {
      "cell_type": "code",
      "source": [
        "print(weather.isna().sum())"
      ],
      "metadata": {
        "colab": {
          "base_uri": "https://localhost:8080/"
        },
        "id": "pqedJOg_p9J5",
        "outputId": "187c7848-8adc-4a7e-87e8-5a197026acb0"
      },
      "execution_count": 41,
      "outputs": [
        {
          "output_type": "stream",
          "name": "stdout",
          "text": [
            "STATION      0\n",
            "NAME         0\n",
            "DATE         0\n",
            "AWND         0\n",
            "PGTM       366\n",
            "PRCP         0\n",
            "SNOW         0\n",
            "SNWD         0\n",
            "TAVG         0\n",
            "TMAX         0\n",
            "TMIN         0\n",
            "TSUN       366\n",
            "WDF2         0\n",
            "WDF5         2\n",
            "WSF2         0\n",
            "WSF5         2\n",
            "dtype: int64\n"
          ]
        }
      ]
    },
    {
      "cell_type": "markdown",
      "source": [
        "Missing Values"
      ],
      "metadata": {
        "id": "2sYTc11zqDBG"
      }
    },
    {
      "cell_type": "code",
      "source": [
        "weather.dropna(inplace=True)"
      ],
      "metadata": {
        "id": "3LwKCg3xqFH0"
      },
      "execution_count": 42,
      "outputs": []
    },
    {
      "cell_type": "code",
      "source": [
        " # Forward fill missing values\n",
        "weather['PGTM'] = weather['PGTM'].fillna(method='ffill')"
      ],
      "metadata": {
        "colab": {
          "base_uri": "https://localhost:8080/"
        },
        "id": "YTze-nULqHec",
        "outputId": "ca2345ee-dba0-4187-9fe6-bc671d8e9a06"
      },
      "execution_count": 48,
      "outputs": [
        {
          "output_type": "stream",
          "name": "stderr",
          "text": [
            "<ipython-input-48-fea5dfa11787>:2: FutureWarning: Series.fillna with 'method' is deprecated and will raise in a future version. Use obj.ffill() or obj.bfill() instead.\n",
            "  weather['PGTM'] = weather['PGTM'].fillna(method='ffill')\n"
          ]
        }
      ]
    },
    {
      "cell_type": "code",
      "source": [
        "weather['TSUN'] = weather['TSUN'].fillna(method='ffill')"
      ],
      "metadata": {
        "colab": {
          "base_uri": "https://localhost:8080/"
        },
        "id": "_il1jyj9rBAT",
        "outputId": "e8f83bac-52fe-4ef5-8868-914836266a01"
      },
      "execution_count": 49,
      "outputs": [
        {
          "output_type": "stream",
          "name": "stderr",
          "text": [
            "<ipython-input-49-2b8efb5cf9da>:1: FutureWarning: Series.fillna with 'method' is deprecated and will raise in a future version. Use obj.ffill() or obj.bfill() instead.\n",
            "  weather['TSUN'] = weather['TSUN'].fillna(method='ffill')\n"
          ]
        }
      ]
    },
    {
      "cell_type": "markdown",
      "source": [
        "# Create a Schema\n",
        "Create a schema for the final database. This schema should include every table you plan to implement (feel free to split up the existing DataFrames), all data types, and all primary/foreign key relationships."
      ],
      "metadata": {
        "id": "9oLl0nBUrkNb"
      }
    },
    {
      "cell_type": "code",
      "source": [
        "!pip install pyspark==3.5.0"
      ],
      "metadata": {
        "colab": {
          "base_uri": "https://localhost:8080/"
        },
        "collapsed": true,
        "id": "Q2Fbp8KygOde",
        "outputId": "43e33ab8-5877-4f86-97bc-a825436c7154"
      },
      "execution_count": 6,
      "outputs": [
        {
          "output_type": "stream",
          "name": "stdout",
          "text": [
            "Collecting pyspark==3.5.0\n",
            "  Downloading pyspark-3.5.0.tar.gz (316.9 MB)\n",
            "\u001b[2K     \u001b[90m━━━━━━━━━━━━━━━━━━━━━━━━━━━━━━━━━━━━━━━━\u001b[0m \u001b[32m316.9/316.9 MB\u001b[0m \u001b[31m5.0 MB/s\u001b[0m eta \u001b[36m0:00:00\u001b[0m\n",
            "\u001b[?25h  Preparing metadata (setup.py) ... \u001b[?25l\u001b[?25hdone\n",
            "Requirement already satisfied: py4j==0.10.9.7 in /usr/local/lib/python3.10/dist-packages (from pyspark==3.5.0) (0.10.9.7)\n",
            "Building wheels for collected packages: pyspark\n",
            "  Building wheel for pyspark (setup.py) ... \u001b[?25l\u001b[?25hdone\n",
            "  Created wheel for pyspark: filename=pyspark-3.5.0-py2.py3-none-any.whl size=317425346 sha256=3f761373d3a508d4268882317e9feb7a0ab6a53cf02d0625168d8352d4f777a7\n",
            "  Stored in directory: /root/.cache/pip/wheels/41/4e/10/c2cf2467f71c678cfc8a6b9ac9241e5e44a01940da8fbb17fc\n",
            "Successfully built pyspark\n",
            "Installing collected packages: pyspark\n",
            "  Attempting uninstall: pyspark\n",
            "    Found existing installation: pyspark 3.5.4\n",
            "    Uninstalling pyspark-3.5.4:\n",
            "      Successfully uninstalled pyspark-3.5.4\n",
            "Successfully installed pyspark-3.5.0\n"
          ]
        }
      ]
    },
    {
      "cell_type": "code",
      "source": [
        "from pyspark.sql import SparkSession\n",
        "from pyspark.sql.types import *"
      ],
      "metadata": {
        "id": "MqpK7hoMjS6V"
      },
      "execution_count": 7,
      "outputs": []
    },
    {
      "cell_type": "code",
      "source": [
        "# Define schema for trips table\n",
        "trips_schema = StructType([\n",
        "    StructField(\"trip_id\", IntegerType(), True),\n",
        "    StructField(\"start_time\", TimestampType(), True),\n",
        "    StructField(\"end_time\", TimestampType(), True),\n",
        "    StructField(\"bike_id\", IntegerType(), True),\n",
        "    StructField(\"trip_duration\", IntegerType(), True),\n",
        "    StructField(\"start_station_id\", IntegerType(), True),\n",
        "    StructField(\"end_station_id\", IntegerType(), True),\n",
        "    StructField(\"user_type\", StringType(), True),\n",
        "    StructField(\"gender\", StringType(), True),\n",
        "    StructField(\"birth_year\", IntegerType(), True)\n",
        "])\n",
        "\n",
        "# Define schema for stations table\n",
        "stations_schema = StructType([\n",
        "    StructField(\"station_id\", IntegerType(), True),\n",
        "    StructField(\"station_name\", StringType(), True),\n",
        "    StructField(\"latitude\", FloatType(), True),\n",
        "    StructField(\"longitude\", FloatType(), True)\n",
        "])\n",
        "\n",
        "# Define schema for weather table\n",
        "weather_schema = StructType([\n",
        "    StructField(\"date\", DateType(), True),\n",
        "    StructField(\"AWND\", FloatType(), True),\n",
        "    StructField(\"PRCP\", FloatType(), True),\n",
        "    StructField(\"SNOW\", FloatType(), True),\n",
        "    StructField(\"SNWD\", FloatType(), True),\n",
        "    StructField(\"TMAX\", FloatType(), True),\n",
        "    StructField(\"TMIN\", FloatType(), True)\n",
        "])"
      ],
      "metadata": {
        "id": "tuA-SiD1r_1b"
      },
      "execution_count": 50,
      "outputs": []
    },
    {
      "cell_type": "markdown",
      "source": [
        "# Create the Database\n",
        "Implement the schema in a Postgres database and insert the data."
      ],
      "metadata": {
        "id": "cX2MIFySsQOJ"
      }
    },
    {
      "cell_type": "code",
      "source": [
        "!pip install psycopg2-binary"
      ],
      "metadata": {
        "colab": {
          "base_uri": "https://localhost:8080/"
        },
        "id": "3pDa1DDXsSBx",
        "outputId": "10aefdcc-e6b0-42d5-8fa9-713a3665ec74"
      },
      "execution_count": 51,
      "outputs": [
        {
          "output_type": "stream",
          "name": "stdout",
          "text": [
            "Collecting psycopg2-binary\n",
            "  Downloading psycopg2_binary-2.9.10-cp310-cp310-manylinux_2_17_x86_64.manylinux2014_x86_64.whl.metadata (4.9 kB)\n",
            "Downloading psycopg2_binary-2.9.10-cp310-cp310-manylinux_2_17_x86_64.manylinux2014_x86_64.whl (3.0 MB)\n",
            "\u001b[?25l   \u001b[90m━━━━━━━━━━━━━━━━━━━━━━━━━━━━━━━━━━━━━━━━\u001b[0m \u001b[32m0.0/3.0 MB\u001b[0m \u001b[31m?\u001b[0m eta \u001b[36m-:--:--\u001b[0m\r\u001b[2K   \u001b[91m━━\u001b[0m\u001b[91m╸\u001b[0m\u001b[90m━━━━━━━━━━━━━━━━━━━━━━━━━━━━━━━━━━━━━\u001b[0m \u001b[32m0.2/3.0 MB\u001b[0m \u001b[31m6.6 MB/s\u001b[0m eta \u001b[36m0:00:01\u001b[0m\r\u001b[2K   \u001b[91m━━━━━━━━━━━━━━━━━━━━━━\u001b[0m\u001b[91m╸\u001b[0m\u001b[90m━━━━━━━━━━━━━━━━━\u001b[0m \u001b[32m1.7/3.0 MB\u001b[0m \u001b[31m25.7 MB/s\u001b[0m eta \u001b[36m0:00:01\u001b[0m\r\u001b[2K   \u001b[91m━━━━━━━━━━━━━━━━━━━━━━━━━━━━━━━━━━━━━━━\u001b[0m\u001b[91m╸\u001b[0m \u001b[32m3.0/3.0 MB\u001b[0m \u001b[31m36.9 MB/s\u001b[0m eta \u001b[36m0:00:01\u001b[0m\r\u001b[2K   \u001b[90m━━━━━━━━━━━━━━━━━━━━━━━━━━━━━━━━━━━━━━━━\u001b[0m \u001b[32m3.0/3.0 MB\u001b[0m \u001b[31m27.1 MB/s\u001b[0m eta \u001b[36m0:00:00\u001b[0m\n",
            "\u001b[?25hInstalling collected packages: psycopg2-binary\n",
            "Successfully installed psycopg2-binary-2.9.10\n"
          ]
        }
      ]
    },
    {
      "cell_type": "code",
      "source": [
        "!sudo apt-get update\n",
        "!sudo apt-get install postgresql postgresql-contrib"
      ],
      "metadata": {
        "colab": {
          "base_uri": "https://localhost:8080/"
        },
        "id": "Y0DWQBfvtFdh",
        "outputId": "490b3439-b1c7-44c3-9648-e6e6cefce932"
      },
      "execution_count": 54,
      "outputs": [
        {
          "output_type": "stream",
          "name": "stdout",
          "text": [
            "\r0% [Working]\r            \rGet:1 https://developer.download.nvidia.com/compute/cuda/repos/ubuntu2204/x86_64  InRelease [1,581 B]\n",
            "Get:2 https://cloud.r-project.org/bin/linux/ubuntu jammy-cran40/ InRelease [3,626 B]\n",
            "Hit:3 http://archive.ubuntu.com/ubuntu jammy InRelease\n",
            "Get:4 https://r2u.stat.illinois.edu/ubuntu jammy InRelease [6,555 B]\n",
            "Get:5 http://archive.ubuntu.com/ubuntu jammy-updates InRelease [128 kB]\n",
            "Get:6 http://security.ubuntu.com/ubuntu jammy-security InRelease [129 kB]\n",
            "Get:7 https://developer.download.nvidia.com/compute/cuda/repos/ubuntu2204/x86_64  Packages [1,199 kB]\n",
            "Get:8 http://archive.ubuntu.com/ubuntu jammy-backports InRelease [127 kB]\n",
            "Hit:9 https://ppa.launchpadcontent.net/deadsnakes/ppa/ubuntu jammy InRelease\n",
            "Hit:10 https://ppa.launchpadcontent.net/graphics-drivers/ppa/ubuntu jammy InRelease\n",
            "Hit:11 https://ppa.launchpadcontent.net/ubuntugis/ppa/ubuntu jammy InRelease\n",
            "Get:12 https://r2u.stat.illinois.edu/ubuntu jammy/main all Packages [8,584 kB]\n",
            "Get:13 http://archive.ubuntu.com/ubuntu jammy-updates/universe amd64 Packages [1,518 kB]\n",
            "Get:14 http://archive.ubuntu.com/ubuntu jammy-updates/main amd64 Packages [2,859 kB]\n",
            "Get:15 http://archive.ubuntu.com/ubuntu jammy-updates/restricted amd64 Packages [3,663 kB]\n",
            "Get:16 https://r2u.stat.illinois.edu/ubuntu jammy/main amd64 Packages [2,639 kB]\n",
            "Get:17 http://security.ubuntu.com/ubuntu jammy-security/main amd64 Packages [2,560 kB]\n",
            "Get:18 http://security.ubuntu.com/ubuntu jammy-security/multiverse amd64 Packages [45.2 kB]\n",
            "Get:19 http://security.ubuntu.com/ubuntu jammy-security/restricted amd64 Packages [3,527 kB]\n",
            "Get:20 http://security.ubuntu.com/ubuntu jammy-security/universe amd64 Packages [1,227 kB]\n",
            "Fetched 28.2 MB in 4s (7,558 kB/s)\n",
            "Reading package lists... Done\n",
            "W: Skipping acquire of configured file 'main/source/Sources' as repository 'https://r2u.stat.illinois.edu/ubuntu jammy InRelease' does not seem to provide it (sources.list entry misspelt?)\n",
            "Reading package lists... Done\n",
            "Building dependency tree... Done\n",
            "Reading state information... Done\n",
            "The following additional packages will be installed:\n",
            "  libcommon-sense-perl libjson-perl libjson-xs-perl libtypes-serialiser-perl\n",
            "  logrotate netbase postgresql-14 postgresql-client-14\n",
            "  postgresql-client-common postgresql-common ssl-cert sysstat\n",
            "Suggested packages:\n",
            "  bsd-mailx | mailx postgresql-doc postgresql-doc-14 isag\n",
            "The following NEW packages will be installed:\n",
            "  libcommon-sense-perl libjson-perl libjson-xs-perl libtypes-serialiser-perl\n",
            "  logrotate netbase postgresql postgresql-14 postgresql-client-14\n",
            "  postgresql-client-common postgresql-common postgresql-contrib ssl-cert\n",
            "  sysstat\n",
            "0 upgraded, 14 newly installed, 0 to remove and 51 not upgraded.\n",
            "Need to get 18.4 MB of archives.\n",
            "After this operation, 51.7 MB of additional disk space will be used.\n",
            "Get:1 http://archive.ubuntu.com/ubuntu jammy-updates/main amd64 logrotate amd64 3.19.0-1ubuntu1.1 [54.3 kB]\n",
            "Get:2 http://archive.ubuntu.com/ubuntu jammy/main amd64 netbase all 6.3 [12.9 kB]\n",
            "Get:3 http://archive.ubuntu.com/ubuntu jammy/main amd64 libcommon-sense-perl amd64 3.75-2build1 [21.1 kB]\n",
            "Get:4 http://archive.ubuntu.com/ubuntu jammy/main amd64 libjson-perl all 4.04000-1 [81.8 kB]\n",
            "Get:5 http://archive.ubuntu.com/ubuntu jammy/main amd64 libtypes-serialiser-perl all 1.01-1 [11.6 kB]\n",
            "Get:6 http://archive.ubuntu.com/ubuntu jammy/main amd64 libjson-xs-perl amd64 4.030-1build3 [87.2 kB]\n",
            "Get:7 http://archive.ubuntu.com/ubuntu jammy/main amd64 postgresql-client-common all 238 [29.6 kB]\n",
            "Get:8 http://archive.ubuntu.com/ubuntu jammy-updates/main amd64 postgresql-client-14 amd64 14.15-0ubuntu0.22.04.1 [1,225 kB]\n",
            "Get:9 http://archive.ubuntu.com/ubuntu jammy/main amd64 ssl-cert all 1.1.2 [17.4 kB]\n",
            "Get:10 http://archive.ubuntu.com/ubuntu jammy/main amd64 postgresql-common all 238 [169 kB]\n",
            "Get:11 http://archive.ubuntu.com/ubuntu jammy-updates/main amd64 postgresql-14 amd64 14.15-0ubuntu0.22.04.1 [16.2 MB]\n",
            "Get:12 http://archive.ubuntu.com/ubuntu jammy/main amd64 postgresql all 14+238 [3,288 B]\n",
            "Get:13 http://archive.ubuntu.com/ubuntu jammy/main amd64 postgresql-contrib all 14+238 [3,292 B]\n",
            "Get:14 http://archive.ubuntu.com/ubuntu jammy-updates/main amd64 sysstat amd64 12.5.2-2ubuntu0.2 [487 kB]\n",
            "Fetched 18.4 MB in 1s (31.4 MB/s)\n",
            "debconf: unable to initialize frontend: Dialog\n",
            "debconf: (No usable dialog-like program is installed, so the dialog based frontend cannot be used. at /usr/share/perl5/Debconf/FrontEnd/Dialog.pm line 78, <> line 14.)\n",
            "debconf: falling back to frontend: Readline\n",
            "debconf: unable to initialize frontend: Readline\n",
            "debconf: (This frontend requires a controlling tty.)\n",
            "debconf: falling back to frontend: Teletype\n",
            "dpkg-preconfigure: unable to re-open stdin: \n",
            "Selecting previously unselected package logrotate.\n",
            "(Reading database ... 123632 files and directories currently installed.)\n",
            "Preparing to unpack .../00-logrotate_3.19.0-1ubuntu1.1_amd64.deb ...\n",
            "Unpacking logrotate (3.19.0-1ubuntu1.1) ...\n",
            "Selecting previously unselected package netbase.\n",
            "Preparing to unpack .../01-netbase_6.3_all.deb ...\n",
            "Unpacking netbase (6.3) ...\n",
            "Selecting previously unselected package libcommon-sense-perl:amd64.\n",
            "Preparing to unpack .../02-libcommon-sense-perl_3.75-2build1_amd64.deb ...\n",
            "Unpacking libcommon-sense-perl:amd64 (3.75-2build1) ...\n",
            "Selecting previously unselected package libjson-perl.\n",
            "Preparing to unpack .../03-libjson-perl_4.04000-1_all.deb ...\n",
            "Unpacking libjson-perl (4.04000-1) ...\n",
            "Selecting previously unselected package libtypes-serialiser-perl.\n",
            "Preparing to unpack .../04-libtypes-serialiser-perl_1.01-1_all.deb ...\n",
            "Unpacking libtypes-serialiser-perl (1.01-1) ...\n",
            "Selecting previously unselected package libjson-xs-perl.\n",
            "Preparing to unpack .../05-libjson-xs-perl_4.030-1build3_amd64.deb ...\n",
            "Unpacking libjson-xs-perl (4.030-1build3) ...\n",
            "Selecting previously unselected package postgresql-client-common.\n",
            "Preparing to unpack .../06-postgresql-client-common_238_all.deb ...\n",
            "Unpacking postgresql-client-common (238) ...\n",
            "Selecting previously unselected package postgresql-client-14.\n",
            "Preparing to unpack .../07-postgresql-client-14_14.15-0ubuntu0.22.04.1_amd64.deb ...\n",
            "Unpacking postgresql-client-14 (14.15-0ubuntu0.22.04.1) ...\n",
            "Selecting previously unselected package ssl-cert.\n",
            "Preparing to unpack .../08-ssl-cert_1.1.2_all.deb ...\n",
            "Unpacking ssl-cert (1.1.2) ...\n",
            "Selecting previously unselected package postgresql-common.\n",
            "Preparing to unpack .../09-postgresql-common_238_all.deb ...\n",
            "Adding 'diversion of /usr/bin/pg_config to /usr/bin/pg_config.libpq-dev by postgresql-common'\n",
            "Unpacking postgresql-common (238) ...\n",
            "Selecting previously unselected package postgresql-14.\n",
            "Preparing to unpack .../10-postgresql-14_14.15-0ubuntu0.22.04.1_amd64.deb ...\n",
            "Unpacking postgresql-14 (14.15-0ubuntu0.22.04.1) ...\n",
            "Selecting previously unselected package postgresql.\n",
            "Preparing to unpack .../11-postgresql_14+238_all.deb ...\n",
            "Unpacking postgresql (14+238) ...\n",
            "Selecting previously unselected package postgresql-contrib.\n",
            "Preparing to unpack .../12-postgresql-contrib_14+238_all.deb ...\n",
            "Unpacking postgresql-contrib (14+238) ...\n",
            "Selecting previously unselected package sysstat.\n",
            "Preparing to unpack .../13-sysstat_12.5.2-2ubuntu0.2_amd64.deb ...\n",
            "Unpacking sysstat (12.5.2-2ubuntu0.2) ...\n",
            "Setting up logrotate (3.19.0-1ubuntu1.1) ...\n",
            "Created symlink /etc/systemd/system/timers.target.wants/logrotate.timer → /lib/systemd/system/logrotate.timer.\n",
            "Setting up libcommon-sense-perl:amd64 (3.75-2build1) ...\n",
            "Setting up ssl-cert (1.1.2) ...\n",
            "debconf: unable to initialize frontend: Dialog\n",
            "debconf: (No usable dialog-like program is installed, so the dialog based frontend cannot be used. at /usr/share/perl5/Debconf/FrontEnd/Dialog.pm line 78.)\n",
            "debconf: falling back to frontend: Readline\n",
            "Setting up libtypes-serialiser-perl (1.01-1) ...\n",
            "Setting up libjson-perl (4.04000-1) ...\n",
            "Setting up netbase (6.3) ...\n",
            "Setting up sysstat (12.5.2-2ubuntu0.2) ...\n",
            "debconf: unable to initialize frontend: Dialog\n",
            "debconf: (No usable dialog-like program is installed, so the dialog based frontend cannot be used. at /usr/share/perl5/Debconf/FrontEnd/Dialog.pm line 78.)\n",
            "debconf: falling back to frontend: Readline\n",
            "\n",
            "Creating config file /etc/default/sysstat with new version\n",
            "update-alternatives: using /usr/bin/sar.sysstat to provide /usr/bin/sar (sar) in auto mode\n",
            "Created symlink /etc/systemd/system/sysstat.service.wants/sysstat-collect.timer → /lib/systemd/system/sysstat-collect.timer.\n",
            "Created symlink /etc/systemd/system/sysstat.service.wants/sysstat-summary.timer → /lib/systemd/system/sysstat-summary.timer.\n",
            "Created symlink /etc/systemd/system/multi-user.target.wants/sysstat.service → /lib/systemd/system/sysstat.service.\n",
            "Setting up postgresql-client-common (238) ...\n",
            "Setting up libjson-xs-perl (4.030-1build3) ...\n",
            "Setting up postgresql-client-14 (14.15-0ubuntu0.22.04.1) ...\n",
            "update-alternatives: using /usr/share/postgresql/14/man/man1/psql.1.gz to provide /usr/share/man/man1/psql.1.gz (psql.1.gz) in auto mode\n",
            "Setting up postgresql-common (238) ...\n",
            "debconf: unable to initialize frontend: Dialog\n",
            "debconf: (No usable dialog-like program is installed, so the dialog based frontend cannot be used. at /usr/share/perl5/Debconf/FrontEnd/Dialog.pm line 78.)\n",
            "debconf: falling back to frontend: Readline\n",
            "Adding user postgres to group ssl-cert\n",
            "\n",
            "Creating config file /etc/postgresql-common/createcluster.conf with new version\n",
            "Building PostgreSQL dictionaries from installed myspell/hunspell packages...\n",
            "Removing obsolete dictionary files:\n",
            "Created symlink /etc/systemd/system/multi-user.target.wants/postgresql.service → /lib/systemd/system/postgresql.service.\n",
            "Setting up postgresql-14 (14.15-0ubuntu0.22.04.1) ...\n",
            "debconf: unable to initialize frontend: Dialog\n",
            "debconf: (No usable dialog-like program is installed, so the dialog based frontend cannot be used. at /usr/share/perl5/Debconf/FrontEnd/Dialog.pm line 78.)\n",
            "debconf: falling back to frontend: Readline\n",
            "Creating new PostgreSQL cluster 14/main ...\n",
            "/usr/lib/postgresql/14/bin/initdb -D /var/lib/postgresql/14/main --auth-local peer --auth-host scram-sha-256 --no-instructions\n",
            "The files belonging to this database system will be owned by user \"postgres\".\n",
            "This user must also own the server process.\n",
            "\n",
            "The database cluster will be initialized with locale \"en_US.UTF-8\".\n",
            "The default database encoding has accordingly been set to \"UTF8\".\n",
            "The default text search configuration will be set to \"english\".\n",
            "\n",
            "Data page checksums are disabled.\n",
            "\n",
            "fixing permissions on existing directory /var/lib/postgresql/14/main ... ok\n",
            "creating subdirectories ... ok\n",
            "selecting dynamic shared memory implementation ... posix\n",
            "selecting default max_connections ... 100\n",
            "selecting default shared_buffers ... 128MB\n",
            "selecting default time zone ... Etc/UTC\n",
            "creating configuration files ... ok\n",
            "running bootstrap script ... ok\n",
            "performing post-bootstrap initialization ... ok\n",
            "syncing data to disk ... ok\n",
            "update-alternatives: using /usr/share/postgresql/14/man/man1/postmaster.1.gz to provide /usr/share/man/man1/postmaster.1.gz (postmaster.1.gz) in auto mode\n",
            "invoke-rc.d: could not determine current runlevel\n",
            "invoke-rc.d: policy-rc.d denied execution of start.\n",
            "Setting up postgresql-contrib (14+238) ...\n",
            "Setting up postgresql (14+238) ...\n",
            "Processing triggers for man-db (2.10.2-1) ...\n"
          ]
        }
      ]
    }
  ]
}