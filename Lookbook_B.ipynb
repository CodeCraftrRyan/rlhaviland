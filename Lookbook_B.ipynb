{
  "nbformat": 4,
  "nbformat_minor": 0,
  "metadata": {
    "colab": {
      "provenance": [],
      "mount_file_id": "1pU3enCuGjjY2XWJC8ct543pOZbjR32ug",
      "authorship_tag": "ABX9TyMO5RnQGQJN5UA5qZUzxWiR",
      "include_colab_link": true
    },
    "kernelspec": {
      "name": "python3",
      "display_name": "Python 3"
    },
    "language_info": {
      "name": "python"
    }
  },
  "cells": [
    {
      "cell_type": "markdown",
      "metadata": {
        "id": "view-in-github",
        "colab_type": "text"
      },
      "source": [
        "<a href=\"https://colab.research.google.com/github/CodeCraftrRyan/rlhaviland/blob/main/Lookbook_B.ipynb\" target=\"_parent\"><img src=\"https://colab.research.google.com/assets/colab-badge.svg\" alt=\"Open In Colab\"/></a>"
      ]
    },
    {
      "cell_type": "code",
      "source": [
        "from flask import Flask, request, send_file\n",
        "!pip install matplotlib-venn\n",
        "!pip install reportlab\n",
        "from reportlab.lib.pagesizes import letter\n",
        "from reportlab.platypus import SimpleDocTemplate, Table, TableStyle, Image, Paragraph, Spacer, Frame, KeepInFrame\n",
        "from reportlab.lib import colors\n",
        "from reportlab.lib.colors import Color\n",
        "from reportlab.lib.styles import getSampleStyleSheet, ParagraphStyle\n",
        "from reportlab.lib.units import inch\n",
        "from reportlab.pdfbase import pdfmetrics\n",
        "from reportlab.pdfbase.ttfonts import TTFont\n",
        "import pandas as pd\n",
        "from PIL import Image as PILImage\n",
        "import os\n",
        "from google.colab import drive\n",
        "drive.mount('/content/drive')\n",
        "\n",
        "from datetime import datetime\n",
        "\n",
        "!pip install pillow # Make sure Pillow is installed for image processing\n",
        "from PIL import Image as PILImage # Import the Image class from Pillow\n"
      ],
      "metadata": {
        "colab": {
          "base_uri": "https://localhost:8080/"
        },
        "id": "k7CLx06OBuJa",
        "outputId": "5f3c8cb4-8e2a-459b-8b2d-7d3c461274b1"
      },
      "execution_count": null,
      "outputs": [
        {
          "output_type": "stream",
          "name": "stdout",
          "text": [
            "Requirement already satisfied: matplotlib-venn in /usr/local/lib/python3.11/dist-packages (1.1.2)\n",
            "Requirement already satisfied: matplotlib in /usr/local/lib/python3.11/dist-packages (from matplotlib-venn) (3.10.0)\n",
            "Requirement already satisfied: numpy in /usr/local/lib/python3.11/dist-packages (from matplotlib-venn) (2.0.2)\n",
            "Requirement already satisfied: scipy in /usr/local/lib/python3.11/dist-packages (from matplotlib-venn) (1.14.1)\n",
            "Requirement already satisfied: contourpy>=1.0.1 in /usr/local/lib/python3.11/dist-packages (from matplotlib->matplotlib-venn) (1.3.1)\n",
            "Requirement already satisfied: cycler>=0.10 in /usr/local/lib/python3.11/dist-packages (from matplotlib->matplotlib-venn) (0.12.1)\n",
            "Requirement already satisfied: fonttools>=4.22.0 in /usr/local/lib/python3.11/dist-packages (from matplotlib->matplotlib-venn) (4.56.0)\n",
            "Requirement already satisfied: kiwisolver>=1.3.1 in /usr/local/lib/python3.11/dist-packages (from matplotlib->matplotlib-venn) (1.4.8)\n",
            "Requirement already satisfied: packaging>=20.0 in /usr/local/lib/python3.11/dist-packages (from matplotlib->matplotlib-venn) (24.2)\n",
            "Requirement already satisfied: pillow>=8 in /usr/local/lib/python3.11/dist-packages (from matplotlib->matplotlib-venn) (11.1.0)\n",
            "Requirement already satisfied: pyparsing>=2.3.1 in /usr/local/lib/python3.11/dist-packages (from matplotlib->matplotlib-venn) (3.2.1)\n",
            "Requirement already satisfied: python-dateutil>=2.7 in /usr/local/lib/python3.11/dist-packages (from matplotlib->matplotlib-venn) (2.8.2)\n",
            "Requirement already satisfied: six>=1.5 in /usr/local/lib/python3.11/dist-packages (from python-dateutil>=2.7->matplotlib->matplotlib-venn) (1.17.0)\n",
            "Requirement already satisfied: reportlab in /usr/local/lib/python3.11/dist-packages (4.3.1)\n",
            "Requirement already satisfied: pillow>=9.0.0 in /usr/local/lib/python3.11/dist-packages (from reportlab) (11.1.0)\n",
            "Requirement already satisfied: chardet in /usr/local/lib/python3.11/dist-packages (from reportlab) (5.2.0)\n",
            "Drive already mounted at /content/drive; to attempt to forcibly remount, call drive.mount(\"/content/drive\", force_remount=True).\n",
            "Requirement already satisfied: pillow in /usr/local/lib/python3.11/dist-packages (11.1.0)\n"
          ]
        }
      ]
    },
    {
      "cell_type": "code",
      "source": [
        "def add_logo(canvas, doc):\n",
        "    \"\"\"\n",
        "    Adds a logo to the top right corner of the PDF.\n",
        "    \"\"\"\n",
        "    logo_path = \"/content/drive/My Drive/lookbook/EDFlogo_Square.jpg\"\n",
        "    logo.drawOn(canvas, letter[0] - logo.drawWidth - 0.5*inch, letter[1] - logo.drawHeight - 0.5*inch)\n",
        "\n",
        "def add_timestamp(canvas, doc):\n",
        "       \"\"\"Adds a timestamp to the lower right corner of the PDF.\"\"\"\n",
        "       current_datetime = datetime.now().strftime(\"%Y-%m-%d %I:%M:%S %p\")  # Changed format string\n",
        "       timestamp = Paragraph(f\"Generated on: {current_datetime}\", styles[\"Normal\"])\n",
        "       timestamp.wrapOn(canvas, doc.width - 0.5*inch, 0.5*inch)\n",
        "       timestamp.drawOn(canvas, doc.width - timestamp.width - 0.5*inch, 0.5*inch)"
      ],
      "metadata": {
        "id": "RSXd3qwo4Jlc"
      },
      "execution_count": null,
      "outputs": []
    },
    {
      "cell_type": "code",
      "execution_count": null,
      "metadata": {
        "id": "_jvbHe_k-YQ7"
      },
      "outputs": [],
      "source": [
        "# Load CSV data\n",
        "df = pd.read_csv('/content/drive/My Drive/lookbook/lookbookexample.csv')\n",
        "\n",
        "df.fillna('', inplace=True)  # Replaces all NaN values with an empty string\n",
        "\n",
        "# Set up the PDF\n",
        "pdf_filename = \"lookbook.pdf\"\n",
        "doc = SimpleDocTemplate(pdf_filename, pagesize=letter, leftMargin=0.5 * inch, rightMargin=0.5 * inch, topMargin=0.5 * inch, bottomMargin=0.5 * inch,)\n",
        "doc.build(elements, onFirstPage=add_logo, onLaterPages=add_logo)\n",
        "elements = []"
      ]
    },
    {
      "cell_type": "code",
      "source": [
        "# Define styles\n",
        "\n",
        "custom_title_color = colors.Color(28/255, 68/255, 108/255)\n",
        "custom_boarder_color = colors.Color(203/255, 212/255, 217/255)\n",
        "\n",
        "styles = getSampleStyleSheet()\n",
        "title_style = ParagraphStyle(\n",
        "    \"TitleStyle\",\n",
        "    parent=styles[\"Title\"],\n",
        "    fontName=\"Times-Roman\",\n",
        "    fontSize=20,\n",
        "    textColor=custom_title_color,\n",
        "    spaceAfter=10,\n",
        "    spaceBefore=10,\n",
        "    alignment=1,  # Centered\n",
        ")\n",
        "name_style = ParagraphStyle(\n",
        "    \"NameStyle\",\n",
        "    parent=styles[\"BodyText\"],\n",
        "    fontName=\"Times-Roman\",\n",
        "    fontSize=11,\n",
        "    textColor=colors.black,\n",
        "    spaceAfter=5,\n",
        "    leading=18,\n",
        ")\n",
        "desc_style = ParagraphStyle(\n",
        "    \"DescStyle\",\n",
        "    parent=styles[\"BodyText\"],\n",
        "    fontName=\"Times-Roman\",\n",
        "    fontSize=10,\n",
        "    textColor=colors.black,\n",
        "    spaceAfter=5,\n",
        "    leading=14,\n",
        "    wordWrap=\"LTR\",\n",
        ")"
      ],
      "metadata": {
        "id": "2LF_r_aMLB1Q"
      },
      "execution_count": null,
      "outputs": []
    },
    {
      "cell_type": "code",
      "source": [
        "# Loop through each row in the CSV\n",
        "for index, row in df.iterrows():\n",
        "    name = row[\"Name\"]\n",
        "    title = row[\"Title\"]\n",
        "    company = row[\"Company\"]\n",
        "    additional = row[\"Additional\"]\n",
        "    description = row[\"Description\"]\n",
        "    image_path = row[\"Headshot\"]  # Ensure image file exists"
      ],
      "metadata": {
        "id": "zqRQJ8HTBhzi"
      },
      "execution_count": null,
      "outputs": []
    },
    {
      "cell_type": "code",
      "source": [
        "# Title Page\n",
        "logo = Image(\"/content/drive/My Drive/lookbook/EDFlogo_Square.jpg\", width=0.5*inch, height=0.5*inch)\n",
        "title = Paragraph(\"Elizabeth Dole Foundation Look-Book\", title_style)\n",
        "elements.append(title)\n",
        "elements.append(Spacer(1, 10))\n",
        "\n",
        "\n",
        "# Loop through each row in the CSV\n",
        "for index, row in df.iterrows():\n",
        "    name = row[\"Name\"]\n",
        "    title = row[\"Title\"]\n",
        "    company = row[\"Company\"]\n",
        "    additional = row[\"Additional\"]\n",
        "    description = row[\"Description\"]\n",
        "    image_path = row[\"Headshot\"]\n",
        "\n",
        "    # Load and resize the image\n",
        "    try:\n",
        "        img = PILImage.open(image_path)\n",
        "        img = img.resize((75, 75), resample=PILImage.LANCZOS)\n",
        "        temp_path = f\"processed_images/temp_{index}.jpg\"\n",
        "        img.save(temp_path, quality=95)\n",
        "        headshot = Image(temp_path)\n",
        "    except:\n",
        "        headshot = None  # If image fails to load, continue\n",
        "\n",
        "    try:\n",
        "        headshot = Image(image_path, width=1*inch, height=1*inch) # adjust dimensions as needed\n",
        "    except:\n",
        "        headshot = None  # If image fails to load, continue\n",
        "\n",
        "    # Format text\n",
        "    person_info = f\"<b>{name}</b><br/>{company}, {title}<br/><i>{additional}</i><br/>\"\n",
        "    paragraph_name = Paragraph(person_info, name_style)\n",
        "    description_info = f\"{description}\"\n",
        "    paragraph_description= Paragraph(description_info, desc_style)\n",
        "\n",
        "    # Create layout\n",
        "    data = [\n",
        "        [headshot, paragraph_name],\n",
        "        [paragraph_description, \"\"]\n",
        "    ]\n",
        "\n",
        "    table = Table(data, colWidths=[90, 450], rowHeights=None)\n",
        "    table.setStyle(TableStyle([\n",
        "        (\"VALIGN\", (0, 0), (-1, -1), \"TOP\"),\n",
        "        (\"LEFTPADDING\", (0, 0), (-1, -1), 5),\n",
        "        (\"RIGHTPADDING\", (0, 0), (-1, -1), 5),\n",
        "        (\"BOX\", (0, 0), (-1, -1), 2, custom_boarder_color),\n",
        "        (\"BACKGROUND\", (0, 0), (-1, 0), colors.white),\n",
        "        (\"FONTNAME\", (0, 0), (-1, 0), \"Times-Roman\"),\n",
        "        (\"BOTTOMPADDING\", (0, 0), (-1, 0), 1),\n",
        "        (\"TOPPADDING\", (0, 1), (-1, -1), .5),\n",
        "        (\"SPAN\", (0,1), (1, 1)),\n",
        "    ]))\n",
        "\n",
        "    # Add to elements\n",
        "    elements.append(table) # Appending table inside the loop\n",
        "    elements.append(Spacer(1, 10))  # Space between entries\n",
        "\n",
        "# Build PDF\n",
        "doc.build(elements)\n",
        "\n",
        "pdf_path = \"/content/drive/My Drive/Lookbook/generated_pdf.pdf\"\n",
        "\n",
        "print(f\"Lookbook PDF generated: {pdf_filename}\")"
      ],
      "metadata": {
        "id": "sQkO0G7sEmal",
        "colab": {
          "base_uri": "https://localhost:8080/"
        },
        "outputId": "f2ee1077-e6ff-4d8c-ad18-3f47f9fbe479"
      },
      "execution_count": null,
      "outputs": [
        {
          "output_type": "stream",
          "name": "stdout",
          "text": [
            "Lookbook PDF generated: lookbook.pdf\n"
          ]
        }
      ]
    }
  ]
}